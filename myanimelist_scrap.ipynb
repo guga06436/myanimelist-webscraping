{
 "cells": [
  {
   "cell_type": "code",
   "execution_count": 13,
   "id": "001a6195-5620-4530-841f-8da7da049572",
   "metadata": {
    "id": "001a6195-5620-4530-841f-8da7da049572"
   },
   "outputs": [],
   "source": [
    "# Importando bibliotecas\n",
    "\n",
    "import pandas as pd\n",
    "import numpy as np\n",
    "from bs4 import BeautifulSoup\n",
    "import requests\n",
    "import time\n",
    "from random import randint"
   ]
  },
  {
   "cell_type": "code",
   "execution_count": 14,
   "id": "83f06667",
   "metadata": {},
   "outputs": [
    {
     "name": "stdout",
     "output_type": "stream",
     "text": [
      "1.4.1\n",
      "1.22.4\n",
      "4.10.0\n",
      "2.26.0\n"
     ]
    }
   ],
   "source": [
    "import bs4\n",
    "\n",
    "print(pd.__version__)\n",
    "print(np.__version__)\n",
    "print(bs4.__version__)\n",
    "print(requests.__version__)"
   ]
  },
  {
   "cell_type": "code",
   "execution_count": 15,
   "id": "620efc9a",
   "metadata": {
    "id": "620efc9a"
   },
   "outputs": [],
   "source": [
    "# Função que altera multiplos caracteres de uma lista\n",
    "\n",
    "def special_replace(lista, string, special_c = \"\"):\n",
    "    for i in lista:\n",
    "        string = string.replace(i, special_c)\n",
    "    return string"
   ]
  },
  {
   "cell_type": "code",
   "execution_count": 16,
   "id": "10fdafb6",
   "metadata": {
    "id": "10fdafb6"
   },
   "outputs": [],
   "source": [
    "# Requisita e retorna o codigo fonte da pagina\n",
    "\n",
    "def get_data(url):\n",
    "    \n",
    "    html_text = ''\n",
    "    while html_text == '':\n",
    "        try:\n",
    "            html_text = requests.get(url).text\n",
    "            soup = BeautifulSoup(html_text, 'lxml')\n",
    "        except:\n",
    "            print(\"Connection refused by the server..\")\n",
    "            print(\"Let me sleep for 5 seconds\")\n",
    "            time.sleep(5)\n",
    "            print(\"Was a nice sleep, now let me continue...\")\n",
    "    return soup"
   ]
  },
  {
   "cell_type": "code",
   "execution_count": 17,
   "id": "e9c112a7",
   "metadata": {},
   "outputs": [],
   "source": [
    "# Retorna uma string contendo apenas os seus caracteres numericos\n",
    "\n",
    "def get_numeric(string):\n",
    "    numeric_string = ''\n",
    "    for char in string:\n",
    "        if char.isnumeric():\n",
    "            numeric_string += char\n",
    "    return numeric_string"
   ]
  },
  {
   "cell_type": "code",
   "execution_count": 18,
   "id": "40fc1551",
   "metadata": {
    "id": "40fc1551"
   },
   "outputs": [],
   "source": [
    "# Retorna a quantidade de espisodios do anime e sua data de lançamento em uma lista\n",
    "\n",
    "def get_info(soup):\n",
    "    \n",
    "    info = soup.find('div', class_ = 'information di-ib mt4').text.replace(\",\", \".\")\n",
    "    indesejados = [' ', 'TV(', 'OVA(', 'Movie(', 'ONA(', 'Special(', ')', 'members', 'eps', 'Music(', '?']\n",
    "    info = special_replace(indesejados, info)\n",
    "    info = info.split('\\n')[1:-2]\n",
    "    info[1] = get_numeric(info[1].split('-')[0])\n",
    "    return info"
   ]
  },
  {
   "cell_type": "code",
   "execution_count": 19,
   "id": "db84bc4e",
   "metadata": {
    "id": "db84bc4e"
   },
   "outputs": [],
   "source": [
    "# Retorna uma lista com todos os animes no formato de dicionario\n",
    "\n",
    "def get_animes(soup):\n",
    "    score = 9\n",
    "    can_score = True\n",
    "    obras = []\n",
    "    animes = soup.find_all('tr', class_ = 'ranking-list')\n",
    "    for anime in animes:\n",
    "        nome = anime.find('h3', class_ = 'hoverinfo_trigger fl-l fs14 fw-b anime_ranking_h3').text\n",
    "        info = get_info(anime)\n",
    "        try:\n",
    "            eps = int(info[0])\n",
    "        except:\n",
    "            eps = np.nan\n",
    "        try:\n",
    "            lancamento = int(info[1])\n",
    "        except:\n",
    "            lancamento = np.nan\n",
    "        while True:\n",
    "            try:\n",
    "                nota = float(anime.find('span', class_ = f'text on score-label score-{score}').text)\n",
    "                break\n",
    "            except:\n",
    "                score -= 1\n",
    "                if score < 0:\n",
    "                    can_score = False\n",
    "                    break\n",
    "        if not can_score:\n",
    "            break\n",
    "        mais_info = anime.find('h3', class_ = \"hoverinfo_trigger fl-l fs14 fw-b anime_ranking_h3\").a['href']\n",
    "        \n",
    "        obra = {\n",
    "            'Nome': nome,\n",
    "            'Quantidade de Episódios': eps,\n",
    "            'Data de lançamento': lancamento,\n",
    "            'Nota': nota,\n",
    "            'Mais informações': mais_info\n",
    "        }\n",
    "        \n",
    "        obras.append(obra)\n",
    "    return obras"
   ]
  },
  {
   "cell_type": "code",
   "execution_count": 20,
   "id": "63b42194",
   "metadata": {
    "id": "63b42194"
   },
   "outputs": [],
   "source": [
    "# Salva os animes em um csv\n",
    "\n",
    "def output(lista_animes):\n",
    "    df_animes = pd.concat(pd.DataFrame(a) for a in lista_animes)\n",
    "    df_animes.to_csv('animes_mal.csv', index=False)\n",
    "    print('Fim. Animes salvos no csv')\n",
    "    print(df_animes.head())\n",
    "    return"
   ]
  },
  {
   "cell_type": "code",
   "execution_count": 21,
   "id": "8134030c",
   "metadata": {
    "id": "8134030c",
    "outputId": "5dc03631-a6e0-444c-e705-65d18427b0a5"
   },
   "outputs": [
    {
     "name": "stdout",
     "output_type": "stream",
     "text": [
      "Fim. Animes salvos no csv\n",
      "                                                Nome  Quantidade de Episódios  \\\n",
      "0  Shingeki no Kyojin: The Final Season - Kankets...                      2.0   \n",
      "1                   Fullmetal Alchemist: Brotherhood                     64.0   \n",
      "2                          Bleach: Sennen Kessen-hen                     13.0   \n",
      "3                                        Steins;Gate                     24.0   \n",
      "4                                           Gintama°                     51.0   \n",
      "\n",
      "   Data de lançamento  Nota                                   Mais informações  \n",
      "0              2023.0  9.17  https://myanimelist.net/anime/51535/Shingeki_n...  \n",
      "1              2009.0  9.11  https://myanimelist.net/anime/5114/Fullmetal_A...  \n",
      "2              2022.0  9.09  https://myanimelist.net/anime/41467/Bleach__Se...  \n",
      "3              2011.0  9.08     https://myanimelist.net/anime/9253/Steins_Gate  \n",
      "4              2015.0  9.07       https://myanimelist.net/anime/28977/Gintama°  \n"
     ]
    }
   ],
   "source": [
    "# Main\n",
    "\n",
    "if __name__ == '__main__':\n",
    "    \n",
    "    resultados = []\n",
    "    limit = 13800\n",
    "    tempo = randint(1, 5)\n",
    "    for i in range(0, limit, 50):    \n",
    "        url = f\"https://myanimelist.net/topanime.php?limit={i}\"\n",
    "        soup = get_data(url)\n",
    "        resultados.append(get_animes(soup))\n",
    "        time.sleep(tempo)\n",
    "    output(resultados)"
   ]
  }
 ],
 "metadata": {
  "colab": {
   "collapsed_sections": [],
   "name": "myanimelist_scrap.ipynb",
   "provenance": []
  },
  "kernelspec": {
   "display_name": "Python 3 (ipykernel)",
   "language": "python",
   "name": "python3"
  },
  "language_info": {
   "codemirror_mode": {
    "name": "ipython",
    "version": 3
   },
   "file_extension": ".py",
   "mimetype": "text/x-python",
   "name": "python",
   "nbconvert_exporter": "python",
   "pygments_lexer": "ipython3",
   "version": "3.10.1"
  },
  "varInspector": {
   "cols": {
    "lenName": 16,
    "lenType": 16,
    "lenVar": 40
   },
   "kernels_config": {
    "python": {
     "delete_cmd_postfix": "",
     "delete_cmd_prefix": "del ",
     "library": "var_list.py",
     "varRefreshCmd": "print(var_dic_list())"
    },
    "r": {
     "delete_cmd_postfix": ") ",
     "delete_cmd_prefix": "rm(",
     "library": "var_list.r",
     "varRefreshCmd": "cat(var_dic_list()) "
    }
   },
   "types_to_exclude": [
    "module",
    "function",
    "builtin_function_or_method",
    "instance",
    "_Feature"
   ],
   "window_display": false
  }
 },
 "nbformat": 4,
 "nbformat_minor": 5
}
